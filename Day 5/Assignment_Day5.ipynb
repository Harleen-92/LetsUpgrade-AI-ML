{
 "cells": [
  {
   "cell_type": "markdown",
   "metadata": {},
   "source": [
    "__Question 1:__<br>\n",
    "Write a Python program to find the first 20 non-even prime natural numbers."
   ]
  },
  {
   "cell_type": "code",
   "execution_count": 10,
   "metadata": {},
   "outputs": [
    {
     "name": "stdout",
     "output_type": "stream",
     "text": [
      "First 20 non even prime numbers are:\n",
      " [3, 5, 7, 11, 13, 17, 19, 23, 29, 31, 37, 41, 43, 47, 53, 59, 61, 67, 71, 73] "
     ]
    }
   ],
   "source": [
    "count = 0\n",
    "no = -1\n",
    "list1 = []\n",
    "while count < 20:\n",
    "    prime = True\n",
    "    no += 2\n",
    "    \n",
    "    for i in range(3, no, 2):\n",
    "        if no%i == 0:\n",
    "            prime = False\n",
    "            break\n",
    "    \n",
    "    if no != 1 and prime:\n",
    "        list1.append(no)\n",
    "        count+=1\n",
    "        \n",
    "print(\"First 20 non even prime numbers are:\\n\",list1, end=\" \")"
   ]
  },
  {
   "cell_type": "markdown",
   "metadata": {},
   "source": [
    "__Question 2:__<br>\n",
    "Write a Python program to implement 15 functions of string"
   ]
  },
  {
   "cell_type": "markdown",
   "metadata": {},
   "source": [
    "### 1. String capitalize()\n",
    "It capitalize first letter of the string and all other letters lowercased"
   ]
  },
  {
   "cell_type": "code",
   "execution_count": 3,
   "metadata": {},
   "outputs": [
    {
     "name": "stdout",
     "output_type": "stream",
     "text": [
      "Original string:  Harleen Kaur\n",
      "Capitalized String:  Harleen kaur\n"
     ]
    }
   ],
   "source": [
    "string = \"Harleen Kaur\"\n",
    "str1 = string.capitalize()\n",
    "print(\"Original string: \", string)\n",
    "print(\"Capitalized String: \",str1)"
   ]
  },
  {
   "cell_type": "markdown",
   "metadata": {},
   "source": [
    "### 2. String count()\n",
    "It count the occurrence of a substring"
   ]
  },
  {
   "cell_type": "code",
   "execution_count": 11,
   "metadata": {},
   "outputs": [
    {
     "name": "stdout",
     "output_type": "stream",
     "text": [
      "Original string:  Harleen Kaur\n",
      "The count of substring is:  1\n"
     ]
    }
   ],
   "source": [
    "str2 = string.count(\"leen\")\n",
    "\n",
    "print(\"Original string: \", string)\n",
    "print(\"The count of substring is: \", str2)"
   ]
  },
  {
   "cell_type": "markdown",
   "metadata": {},
   "source": [
    "### 3. String endswith()\n",
    "It returns true if the string ends with specified characters"
   ]
  },
  {
   "cell_type": "code",
   "execution_count": 10,
   "metadata": {},
   "outputs": [
    {
     "name": "stdout",
     "output_type": "stream",
     "text": [
      "Original string:  Harleen Kaur\n",
      "False\n"
     ]
    }
   ],
   "source": [
    "str3 = string.endswith(\".\")\n",
    "print(\"Original string: \", string)\n",
    "print(str3)"
   ]
  },
  {
   "cell_type": "markdown",
   "metadata": {},
   "source": [
    "### 4. String find()\n",
    "Searches the string for a specified value and returns the position of where it was found. It returns -1 if the value is not found."
   ]
  },
  {
   "cell_type": "code",
   "execution_count": 9,
   "metadata": {},
   "outputs": [
    {
     "name": "stdout",
     "output_type": "stream",
     "text": [
      "Original string:  Harleen Kaur\n",
      "-1\n"
     ]
    }
   ],
   "source": [
    "str4 = string.find(\"kaur\")\n",
    "print(\"Original string: \", string)\n",
    "print(str4)"
   ]
  },
  {
   "cell_type": "markdown",
   "metadata": {},
   "source": [
    "### 5. String format()\n",
    "The format() method formats the specified value(s) and insert them inside the string's placeholder.The placeholder is defined using curly brackets: {}."
   ]
  },
  {
   "cell_type": "code",
   "execution_count": 13,
   "metadata": {},
   "outputs": [
    {
     "name": "stdout",
     "output_type": "stream",
     "text": [
      "Original string:  Harleen Kaur\n",
      "Formatted string:  Welcome! Harleen Kaur\n"
     ]
    }
   ],
   "source": [
    "str5 = \"{0} Harleen Kaur\".format(\"Welcome!\")\n",
    "print(\"Original string: \", string)\n",
    "print(\"Formatted string: \", str5)"
   ]
  },
  {
   "cell_type": "markdown",
   "metadata": {},
   "source": [
    "### 6. String index()\n",
    "Searches the string for a specified value and returns the position of where it was found. It works like find() function except it raises an exception if the value is not found."
   ]
  },
  {
   "cell_type": "code",
   "execution_count": 16,
   "metadata": {},
   "outputs": [
    {
     "ename": "ValueError",
     "evalue": "substring not found",
     "output_type": "error",
     "traceback": [
      "\u001b[0;31m---------------------------------------------------------------------------\u001b[0m",
      "\u001b[0;31mValueError\u001b[0m                                Traceback (most recent call last)",
      "\u001b[0;32m<ipython-input-16-56f433448b3c>\u001b[0m in \u001b[0;36m<module>\u001b[0;34m\u001b[0m\n\u001b[0;32m----> 1\u001b[0;31m \u001b[0mstr6\u001b[0m \u001b[0;34m=\u001b[0m \u001b[0mstring\u001b[0m\u001b[0;34m.\u001b[0m\u001b[0mindex\u001b[0m\u001b[0;34m(\u001b[0m\u001b[0;34m\"kaur\"\u001b[0m\u001b[0;34m)\u001b[0m\u001b[0;34m\u001b[0m\u001b[0;34m\u001b[0m\u001b[0m\n\u001b[0m\u001b[1;32m      2\u001b[0m \u001b[0mprint\u001b[0m\u001b[0;34m(\u001b[0m\u001b[0;34m\"Original string: \"\u001b[0m\u001b[0;34m,\u001b[0m \u001b[0mstring\u001b[0m\u001b[0;34m)\u001b[0m\u001b[0;34m\u001b[0m\u001b[0;34m\u001b[0m\u001b[0m\n\u001b[1;32m      3\u001b[0m \u001b[0mprint\u001b[0m\u001b[0;34m(\u001b[0m\u001b[0mstr6\u001b[0m\u001b[0;34m)\u001b[0m\u001b[0;34m\u001b[0m\u001b[0;34m\u001b[0m\u001b[0m\n",
      "\u001b[0;31mValueError\u001b[0m: substring not found"
     ]
    }
   ],
   "source": [
    "str6 = string.index(\"kaur\")\n",
    "print(\"Original string: \", string)\n",
    "print(str6)"
   ]
  },
  {
   "cell_type": "markdown",
   "metadata": {},
   "source": [
    "### 7. String isalnum()\n",
    "Returns True if all characters in the string are alphanumeric"
   ]
  },
  {
   "cell_type": "code",
   "execution_count": 18,
   "metadata": {},
   "outputs": [
    {
     "name": "stdout",
     "output_type": "stream",
     "text": [
      "Original string 1:  Harleen Kaur\n",
      "Contains alphanumeric string:  False\n",
      "Original string 2:  HarleenKaur\n",
      "Contains alphanumeric string:  True\n"
     ]
    }
   ],
   "source": [
    "string1 = \"HarleenKaur\"\n",
    "str7 = string.isalnum()\n",
    "str = string1.isalnum()\n",
    "print(\"Original string 1: \", string)\n",
    "print(\"Contains alphanumeric string: \",str7)\n",
    "print(\"Original string 2: \", string1)\n",
    "print(\"Contains alphanumeric string: \",str)"
   ]
  },
  {
   "cell_type": "markdown",
   "metadata": {},
   "source": [
    "### 8. String isalpha()\n",
    "Returns True if all characters in the string are in the alphabet"
   ]
  },
  {
   "cell_type": "code",
   "execution_count": 19,
   "metadata": {},
   "outputs": [
    {
     "name": "stdout",
     "output_type": "stream",
     "text": [
      "Original string:  Harleen Kaur\n",
      "Contains alphabetic string:  False\n"
     ]
    }
   ],
   "source": [
    "str8 = string.isalpha()\n",
    "print(\"Original string: \", string)\n",
    "print(\"Contains alphabetic string: \",str8)"
   ]
  },
  {
   "cell_type": "markdown",
   "metadata": {},
   "source": [
    "### 9. String isdigit()\n",
    "Returns True if all characters in the string are digits"
   ]
  },
  {
   "cell_type": "code",
   "execution_count": 21,
   "metadata": {},
   "outputs": [
    {
     "name": "stdout",
     "output_type": "stream",
     "text": [
      "Original string:  Harleen Kaur\n",
      "Contains digits in string:  False\n"
     ]
    }
   ],
   "source": [
    "str9 = string.isdigit()\n",
    "print(\"Original string: \", string)\n",
    "print(\"Contains digits in string: \",str9)"
   ]
  },
  {
   "cell_type": "markdown",
   "metadata": {},
   "source": [
    "### 10. String partition()\n",
    "Returns a tuple where the string is parted into three parts"
   ]
  },
  {
   "cell_type": "code",
   "execution_count": 24,
   "metadata": {},
   "outputs": [
    {
     "name": "stdout",
     "output_type": "stream",
     "text": [
      "Original string:  Harleen Kaur\n",
      "Partitioned string:  ('Harleen ', 'Kaur', '')\n"
     ]
    }
   ],
   "source": [
    "str10 = string.partition(\"Kaur\")\n",
    "print(\"Original string: \", string)\n",
    "print(\"Partitioned string: \",str10)"
   ]
  },
  {
   "cell_type": "markdown",
   "metadata": {},
   "source": [
    "### 11. String replace()\n",
    "Returns a string where a specified value is replaced with a specified value"
   ]
  },
  {
   "cell_type": "code",
   "execution_count": 26,
   "metadata": {},
   "outputs": [
    {
     "name": "stdout",
     "output_type": "stream",
     "text": [
      "Original string:  Harleen Kaur\n",
      "Partitioned string:  Harleen!\n"
     ]
    }
   ],
   "source": [
    "str11 = string.replace(\" Kaur\", \"!\")\n",
    "print(\"Original string: \", string)\n",
    "print(\"Formatted string: \",str11)"
   ]
  },
  {
   "cell_type": "markdown",
   "metadata": {},
   "source": [
    "### 12. String split()\n",
    "Splits the string at the specified separator, and returns a list. Default separator is any white space"
   ]
  },
  {
   "cell_type": "code",
   "execution_count": 28,
   "metadata": {},
   "outputs": [
    {
     "name": "stdout",
     "output_type": "stream",
     "text": [
      "Original string:  Harleen Kaur\n",
      "Formatted string:  ['Harleen', 'Kaur']\n"
     ]
    }
   ],
   "source": [
    "str12 = string.split()\n",
    "print(\"Original string: \", string)\n",
    "print(\"Formatted string: \",str12)"
   ]
  },
  {
   "cell_type": "markdown",
   "metadata": {},
   "source": [
    "### 13. String swapcase()\n",
    "Swaps cases, lower case becomes upper case and vice versa"
   ]
  },
  {
   "cell_type": "code",
   "execution_count": 29,
   "metadata": {},
   "outputs": [
    {
     "name": "stdout",
     "output_type": "stream",
     "text": [
      "Original string:  Harleen Kaur\n",
      "Swapped string:  hARLEEN kAUR\n"
     ]
    }
   ],
   "source": [
    "str13 = string.swapcase()\n",
    "print(\"Original string: \", string)\n",
    "print(\"Swapped string: \",str13)"
   ]
  },
  {
   "cell_type": "markdown",
   "metadata": {},
   "source": [
    "### 14. String title()\n",
    "Converts the first character of each word to upper case"
   ]
  },
  {
   "cell_type": "code",
   "execution_count": 31,
   "metadata": {},
   "outputs": [
    {
     "name": "stdout",
     "output_type": "stream",
     "text": [
      "Original string:  harleen kaur\n",
      "Formatted string:  Harleen Kaur\n"
     ]
    }
   ],
   "source": [
    "st = \"harleen kaur\"\n",
    "str14 = st.title()\n",
    "print(\"Original string: \", st)\n",
    "print(\"Formatted string: \",str14)"
   ]
  },
  {
   "cell_type": "markdown",
   "metadata": {},
   "source": [
    "### 15. String upper()\n",
    "Converts a string into upper case"
   ]
  },
  {
   "cell_type": "code",
   "execution_count": 33,
   "metadata": {},
   "outputs": [
    {
     "name": "stdout",
     "output_type": "stream",
     "text": [
      "Original string:  Harleen Kaur\n",
      "Formatted string:  HARLEEN KAUR\n"
     ]
    }
   ],
   "source": [
    "str15 = string.upper()\n",
    "print(\"Original string: \", string)\n",
    "print(\"Formatted string: \",str15)"
   ]
  },
  {
   "cell_type": "markdown",
   "metadata": {},
   "source": [
    "__Question 3:__<br>\n",
    "Write a Python program to check if the given string is a Palindrome or Anagram or None of them. Display the message accordingly to the user."
   ]
  },
  {
   "cell_type": "code",
   "execution_count": 35,
   "metadata": {},
   "outputs": [
    {
     "name": "stdout",
     "output_type": "stream",
     "text": [
      "Enter the string1: silent\n",
      "Enter the string2: listen\n",
      "String is anagram\n"
     ]
    }
   ],
   "source": [
    "def check(s1, s2): \n",
    "    \n",
    "    s3 = s1[::-1]\n",
    "    if s1 == s3:\n",
    "        print(\"String is palindrome\")\n",
    "\n",
    "    elif (sorted(s1) == sorted(s2)):  #the sorted strings are checked  \n",
    "        print(\"String is anagram\")         \n",
    "    else: \n",
    "        print(\"String is neither palindrom nor anagram\")\n",
    "          \n",
    "\n",
    "# driver code   \n",
    "s1 = str(input(\"Enter the string1: \")) \n",
    "s2 = str(input(\"Enter the string2: \"))\n",
    "\n",
    "check(s1, s2)"
   ]
  },
  {
   "cell_type": "markdown",
   "metadata": {},
   "source": [
    "__Question 4:__<br>\n",
    "Write a Python's user defined function that removes all the additional characters from the string and converts it finally to lower case using built-in lower(). eg: If the string is \"Dr. Darshan Ingle @AI-ML Trainer\", then the output be \"drdarshaningleaimltrainer\"."
   ]
  },
  {
   "cell_type": "code",
   "execution_count": 23,
   "metadata": {},
   "outputs": [
    {
     "name": "stdout",
     "output_type": "stream",
     "text": [
      "Enter the string: Dr. Darshan Ingle @AI-ML Trainer\n",
      "Formatted string:  drdarshaningleaimltrainer\n"
     ]
    }
   ],
   "source": [
    "def is_alpha(string):\n",
    "    str1 = [';', ':', '!', \"*\", \"-\", \".\", \"@\", \"_\", \" \", \"$\", \"#\", \"^\"] \n",
    "    \n",
    "    for i in str1:\n",
    "        string = string.replace(i, \"\")\n",
    "        string = string.lower()\n",
    "        \n",
    "    print(\"Formatted string: \", str(string))\n",
    "    \n",
    "#driver code\n",
    "string = str(input(\"Enter the string: \")) \n",
    "is_alpha(string)   "
   ]
  },
  {
   "cell_type": "code",
   "execution_count": null,
   "metadata": {},
   "outputs": [],
   "source": []
  }
 ],
 "metadata": {
  "kernelspec": {
   "display_name": "Python 3",
   "language": "python",
   "name": "python3"
  },
  "language_info": {
   "codemirror_mode": {
    "name": "ipython",
    "version": 3
   },
   "file_extension": ".py",
   "mimetype": "text/x-python",
   "name": "python",
   "nbconvert_exporter": "python",
   "pygments_lexer": "ipython3",
   "version": "3.7.6"
  }
 },
 "nbformat": 4,
 "nbformat_minor": 4
}
