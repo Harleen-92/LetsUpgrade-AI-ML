{
 "cells": [
  {
   "cell_type": "markdown",
   "metadata": {},
   "source": [
    "__Question 1 :__\n",
    "<br/>Write a program to subtract two complex numbers in Python."
   ]
  },
  {
   "cell_type": "code",
   "execution_count": 2,
   "metadata": {},
   "outputs": [
    {
     "name": "stdout",
     "output_type": "stream",
     "text": [
      "Subtraction of two complex numbers is:  (-1-6j)\n"
     ]
    }
   ],
   "source": [
    "a = 2+4j\n",
    "b = 1-2j\n",
    "\n",
    "##Subtraction of given two complex numbers\n",
    "c = b-a\n",
    "\n",
    "print(\"Subtraction of two complex numbers is: \", c)"
   ]
  },
  {
   "cell_type": "markdown",
   "metadata": {},
   "source": [
    "__Question 2 :__\n",
    "<br/>Write a program to find the fourth root of a number.\n"
   ]
  },
  {
   "cell_type": "code",
   "execution_count": 7,
   "metadata": {},
   "outputs": [
    {
     "name": "stdout",
     "output_type": "stream",
     "text": [
      "Fourth root of 16 is:  2\n"
     ]
    }
   ],
   "source": [
    "a = 16\n",
    "\n",
    "## Finding the fourth root of a given number 16\n",
    "b = 1/4\n",
    "c = int(a**b)\n",
    "\n",
    "print(\"Fourth root of 16 is: \", c)"
   ]
  },
  {
   "cell_type": "markdown",
   "metadata": {},
   "source": [
    "__Question 3:__\n",
    "<br/>Write a program to swap two numbers in Python with the help of a temporary variable."
   ]
  },
  {
   "cell_type": "code",
   "execution_count": 12,
   "metadata": {},
   "outputs": [
    {
     "name": "stdout",
     "output_type": "stream",
     "text": [
      "Original value of a:  4\n",
      "Original value of b:  10\n",
      "Value of a after swapping:  10\n",
      "Value of b after swapping:  4\n"
     ]
    }
   ],
   "source": [
    "a = 4\n",
    "b = 10\n",
    "print(\"Original value of a: \", a)\n",
    "print(\"Original value of b: \", b)\n",
    "## Create a temporary variable and swap the values\n",
    "temp = a \n",
    "a = b\n",
    "b = temp\n",
    "\n",
    "print(\"Value of a after swapping: \", a)\n",
    "print(\"Value of b after swapping: \", b)"
   ]
  },
  {
   "cell_type": "markdown",
   "metadata": {},
   "source": [
    "__Question 4:__\n",
    "<br/>Write a program to swap two numbers in Python without using a temporary variable."
   ]
  },
  {
   "cell_type": "code",
   "execution_count": 13,
   "metadata": {},
   "outputs": [
    {
     "name": "stdout",
     "output_type": "stream",
     "text": [
      "Original value of a:  4\n",
      "Original value of b:  10\n",
      "Value of a after swapping:  10\n",
      "Value of b after swapping:  4\n"
     ]
    }
   ],
   "source": [
    "a = 4\n",
    "b = 10\n",
    "print(\"Original value of a: \", a)\n",
    "print(\"Original value of b: \", b)\n",
    "\n",
    "## swap the values\n",
    "a,b = b,a\n",
    "\n",
    "print(\"Value of a after swapping: \", a)\n",
    "print(\"Value of b after swapping: \", b)"
   ]
  },
  {
   "cell_type": "markdown",
   "metadata": {},
   "source": [
    "__Question 5:__\n",
    "<br/>Write a program to convert fahrenheit to kelvin and celsius both."
   ]
  },
  {
   "cell_type": "code",
   "execution_count": 20,
   "metadata": {},
   "outputs": [
    {
     "name": "stdout",
     "output_type": "stream",
     "text": [
      "Temperature in fahrenheit:  98\n",
      "Temperature in celcius:  36.666666666666664\n"
     ]
    }
   ],
   "source": [
    "##Temperature in fahrenheit\n",
    "temp = 98\n",
    "\n",
    "##Temperature in celcius\n",
    "celcius = float((temp - 32) * 5/9)\n",
    "print(\"Temperature in fahrenheit: \", temp)\n",
    "print(\"Temperature in celcius: \", celcius)\n",
    "\n"
   ]
  },
  {
   "cell_type": "markdown",
   "metadata": {},
   "source": [
    "__Question 6:__\n",
    "<br/>Write a program to demonstrate all the available data types in Python. Hint: Use type() function."
   ]
  },
  {
   "cell_type": "markdown",
   "metadata": {},
   "source": [
    "### 1. Numeric"
   ]
  },
  {
   "cell_type": "code",
   "execution_count": 21,
   "metadata": {},
   "outputs": [
    {
     "name": "stdout",
     "output_type": "stream",
     "text": [
      "Value of b is:  50\n",
      "b is of type:  <class 'int'>\n"
     ]
    }
   ],
   "source": [
    "## int datatype\n",
    "a = 50.3\n",
    "b = int(a)\n",
    "\n",
    "print(\"Value of b is: \", b)\n",
    "print(\"b is of type: \",type(b))"
   ]
  },
  {
   "cell_type": "code",
   "execution_count": 22,
   "metadata": {},
   "outputs": [
    {
     "name": "stdout",
     "output_type": "stream",
     "text": [
      "Value of b is:  50.346\n",
      "b is of type:  <class 'float'>\n"
     ]
    }
   ],
   "source": [
    "## float datatype\n",
    "\n",
    "a = 50.346\n",
    "b = float(a)\n",
    "\n",
    "print(\"Value of b is: \", b)\n",
    "print(\"b is of type: \",type(b))"
   ]
  },
  {
   "cell_type": "code",
   "execution_count": 23,
   "metadata": {},
   "outputs": [
    {
     "name": "stdout",
     "output_type": "stream",
     "text": [
      "Value of b is:  (3+0j)\n",
      "b is of type:  <class 'complex'>\n"
     ]
    }
   ],
   "source": [
    "## complex datatype\n",
    "\n",
    "a = 3\n",
    "b = complex(a)\n",
    "\n",
    "print(\"Value of b is: \", b)\n",
    "print(\"b is of type: \",type(b))"
   ]
  },
  {
   "cell_type": "markdown",
   "metadata": {},
   "source": [
    "### 2. Boolean"
   ]
  },
  {
   "cell_type": "code",
   "execution_count": 13,
   "metadata": {},
   "outputs": [
    {
     "name": "stdout",
     "output_type": "stream",
     "text": [
      "<class 'bool'>\n",
      "<class 'bool'>\n"
     ]
    }
   ],
   "source": [
    "a = True\n",
    "print(type(a))\n",
    "\n",
    "b = False\n",
    "print(type(b))"
   ]
  },
  {
   "cell_type": "markdown",
   "metadata": {},
   "source": [
    "### 3. Sequence"
   ]
  },
  {
   "cell_type": "code",
   "execution_count": 24,
   "metadata": {},
   "outputs": [
    {
     "name": "stdout",
     "output_type": "stream",
     "text": [
      "Value of a is:  Harleen Kaur\n",
      "a is of type:  <class 'str'>\n"
     ]
    }
   ],
   "source": [
    "## string datatype\n",
    "\n",
    "a = \"Harleen Kaur\"\n",
    "print(\"Value of a is: \", a)\n",
    "print(\"a is of type: \",type(a))"
   ]
  },
  {
   "cell_type": "code",
   "execution_count": 25,
   "metadata": {},
   "outputs": [
    {
     "name": "stdout",
     "output_type": "stream",
     "text": [
      "Value of a is:  [3, 'Harleen', 50.4, (2+3j)]\n",
      "a is of type:  <class 'list'>\n"
     ]
    }
   ],
   "source": [
    "## list datatype\n",
    "\n",
    "a = [3, \"Harleen\", 50.4, (2+3j)]\n",
    "print(\"Value of a is: \", a)\n",
    "print(\"a is of type: \",type(a))"
   ]
  },
  {
   "cell_type": "code",
   "execution_count": 26,
   "metadata": {},
   "outputs": [
    {
     "name": "stdout",
     "output_type": "stream",
     "text": [
      "Value of a is:  (3, 'Harleen', 50.4, (2+3j))\n",
      "a is of type:  <class 'tuple'>\n"
     ]
    }
   ],
   "source": [
    "## tuple datatype\n",
    "\n",
    "a = (3, \"Harleen\", 50.4, (2+3j))\n",
    "print(\"Value of a is: \", a)\n",
    "print(\"a is of type: \",type(a))"
   ]
  },
  {
   "cell_type": "markdown",
   "metadata": {},
   "source": [
    "__Question 7:__\n",
    "<br/>Create a Markdown cell in jupyter and list the steps discussed in the session by Dr. Darshan Ingle sir to create Github profile and upload Githubs Assignment link."
   ]
  },
  {
   "cell_type": "markdown",
   "metadata": {},
   "source": [
    "### Github Overview\n",
    "Github is a place where we can push our code in our profile, i.e. we can upload our code that can be public as well as private depending our own choice. Github is very useful for building our profile from career perspective. Official website of github is: www.github.com<br/>\n",
    "### Steps to submit assignments\n",
    "1. Create your profile with Signup option, or simply SignIn to your profile if an existing user.\n",
    "2. Create a new repository by clicking the new button and name it __LetsUpgrade AI/ML__. \n",
    "3. Keep your repository public as shown by default. Also, dont change any option other than default ones in order to submit the assignments successfully.\n",
    "4. Upload the assignment folder in a your repository in a day-wise manner. For example, to submit Day3 assignment, create a folder in your computer and name it Day3 that will contain the ipynb file of your assignment. Now, this folder will be uploaded in your repository.\n",
    "5. Now, open this folder in your github repository. Copy the url and paste it in browser's incognito window to check if your repository is public and the uploaded folder is visible.\n",
    "6. Now, paste this URL in assignment submission form shared by LetsUpgrade team. "
   ]
  },
  {
   "cell_type": "code",
   "execution_count": null,
   "metadata": {},
   "outputs": [],
   "source": []
  }
 ],
 "metadata": {
  "kernelspec": {
   "display_name": "Python 3",
   "language": "python",
   "name": "python3"
  },
  "language_info": {
   "codemirror_mode": {
    "name": "ipython",
    "version": 3
   },
   "file_extension": ".py",
   "mimetype": "text/x-python",
   "name": "python",
   "nbconvert_exporter": "python",
   "pygments_lexer": "ipython3",
   "version": "3.7.6"
  }
 },
 "nbformat": 4,
 "nbformat_minor": 4
}
