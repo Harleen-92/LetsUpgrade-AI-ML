{
 "cells": [
  {
   "cell_type": "markdown",
   "metadata": {},
   "source": [
    "### Question 1:\n",
    "Assuming that we have some email addresses in the \"username@companyname.com\" format, please write program to print the company name of a given email address. Both user names and company names are composed of letters only."
   ]
  },
  {
   "cell_type": "code",
   "execution_count": 71,
   "metadata": {},
   "outputs": [
    {
     "name": "stdout",
     "output_type": "stream",
     "text": [
      "Company name from email is:  company_name\n"
     ]
    }
   ],
   "source": [
    "import re\n",
    "\n",
    "string = \"info@company_name.com\"\n",
    "res = re.search('@(.*)(\\.)', string)\n",
    "print(\"Company name from email is: \",res.group(1))"
   ]
  },
  {
   "cell_type": "markdown",
   "metadata": {},
   "source": [
    "### Question 2:\n",
    "Write a program that accepts a comma-separated sequence of words as input and prints the words in a comma separated sequence after sorting them alphabetically.\n"
   ]
  },
  {
   "cell_type": "code",
   "execution_count": 18,
   "metadata": {},
   "outputs": [
    {
     "name": "stdout",
     "output_type": "stream",
     "text": [
      "['LetsUpgrade!', 'To', 'Welcome']\n"
     ]
    }
   ],
   "source": [
    "list1 = [\"Welcome\", \"To\", \"LetsUpgrade!\"]\n",
    "x = sorted(list1)\n",
    "print(x)"
   ]
  },
  {
   "cell_type": "markdown",
   "metadata": {},
   "source": [
    "### Question 3:\n",
    "Create your own Jupyter Notebook for Sets."
   ]
  },
  {
   "cell_type": "markdown",
   "metadata": {},
   "source": [
    "### Sets Overview\n",
    "1. A set is an unordered and unindexed collection of items. Every set element is unique (do not contain duplicates) and must be immutable (cannot be changed).\n",
    "2. Since sets are unordered the items has no index, so we cannot access items in a set by referring to an index. But we can loop through the set items using a for loop, or ask if a specified value is present in a set, by using the in keyword. For example:"
   ]
  },
  {
   "cell_type": "code",
   "execution_count": 58,
   "metadata": {},
   "outputs": [
    {
     "name": "stdout",
     "output_type": "stream",
     "text": [
      "PHP\n",
      "python\n",
      "C++\n",
      "java\n"
     ]
    }
   ],
   "source": [
    "set1 = {\"python\", \"java\", \"C++\", \"PHP\"}\n",
    "for x in set1:\n",
    "  print(x)"
   ]
  },
  {
   "cell_type": "markdown",
   "metadata": {},
   "source": [
    "3. However, a set itself is mutable. We can add or remove items from it.\n",
    "4. Sets can also be used to perform mathematical set operations like union, intersection, symmetric difference, etc. Many set operations can be performed with specified methods in python, few of which are listed below.\n",
    "### Modifying a set in python<br>\n",
    "We cannot change an element of a set using indexing or slicing as set data type does not support it. But, we can add a single element using the __add()__ method, and multiple elements using the __update()__ method. The update() method can take tuples, lists, strings or other sets as its argument. In all these cases, __duplicates are avoided__. For example:"
   ]
  },
  {
   "cell_type": "code",
   "execution_count": 64,
   "metadata": {},
   "outputs": [
    {
     "name": "stdout",
     "output_type": "stream",
     "text": [
      "{'C', 'python', 'PHP', 'java', 'C#', 'C++', 'Ruby'}\n",
      "{'C', 'python', 'PHP', 'java', 'C#', 'C++', 'Ruby'}\n",
      "Length of a set:  7\n",
      "{'python', 'PHP', 'java', 'C#', 'C++', 'Ruby'}\n"
     ]
    }
   ],
   "source": [
    "## Add single item in a set\n",
    "set1.add(\"Ruby\")\n",
    "print(set1)\n",
    "\n",
    "## Add multiple items in a set\n",
    "set1.update([\"C\", \"C#\"])\n",
    "print(set1)\n",
    "\n",
    "## Get the length of a set\n",
    "print(\"Length of a set: \", len(set1))\n",
    "\n",
    "##Remove element\n",
    "set1.remove(\"C\")\n",
    "print(set1)"
   ]
  },
  {
   "cell_type": "markdown",
   "metadata": {},
   "source": [
    "<div class=\"alert alert-block alert-success\">Elements in a set can be removed by using <b>remove()</b> and <b>discard()</b> method. The only difference is, if the element is not present in a set, <b>remove() will raise an error while discard() will not</b> as shown in example below:</div> "
   ]
  },
  {
   "cell_type": "code",
   "execution_count": 68,
   "metadata": {},
   "outputs": [
    {
     "ename": "KeyError",
     "evalue": "'javascript'",
     "output_type": "error",
     "traceback": [
      "\u001b[0;31m---------------------------------------------------------------------------\u001b[0m",
      "\u001b[0;31mKeyError\u001b[0m                                  Traceback (most recent call last)",
      "\u001b[0;32m<ipython-input-68-bb92e56dbe05>\u001b[0m in \u001b[0;36m<module>\u001b[0;34m\u001b[0m\n\u001b[0;32m----> 1\u001b[0;31m \u001b[0mset1\u001b[0m\u001b[0;34m.\u001b[0m\u001b[0mremove\u001b[0m\u001b[0;34m(\u001b[0m\u001b[0;34m\"javascript\"\u001b[0m\u001b[0;34m)\u001b[0m\u001b[0;34m\u001b[0m\u001b[0;34m\u001b[0m\u001b[0m\n\u001b[0m\u001b[1;32m      2\u001b[0m \u001b[0;34m\u001b[0m\u001b[0m\n\u001b[1;32m      3\u001b[0m \u001b[0mset1\u001b[0m\u001b[0;34m.\u001b[0m\u001b[0mdiscard\u001b[0m\u001b[0;34m(\u001b[0m\u001b[0;34m\"javascript\"\u001b[0m\u001b[0;34m)\u001b[0m\u001b[0;34m\u001b[0m\u001b[0;34m\u001b[0m\u001b[0m\n\u001b[1;32m      4\u001b[0m \u001b[0mprint\u001b[0m\u001b[0;34m(\u001b[0m\u001b[0mset1\u001b[0m\u001b[0;34m)\u001b[0m\u001b[0;34m\u001b[0m\u001b[0;34m\u001b[0m\u001b[0m\n",
      "\u001b[0;31mKeyError\u001b[0m: 'javascript'"
     ]
    }
   ],
   "source": [
    "set1.remove(\"javascript\")\n",
    "print(set1)"
   ]
  },
  {
   "cell_type": "code",
   "execution_count": 69,
   "metadata": {},
   "outputs": [
    {
     "name": "stdout",
     "output_type": "stream",
     "text": [
      "{'python', 'PHP', 'java', 'C#', 'C++', 'Ruby'}\n"
     ]
    }
   ],
   "source": [
    "set1.discard(\"javascript\")\n",
    "print(set1)"
   ]
  },
  {
   "cell_type": "markdown",
   "metadata": {},
   "source": []
  },
  {
   "cell_type": "markdown",
   "metadata": {},
   "source": [
    "### Question 4:\n",
    "Given a list of n-1 numbers ranging from 1 to n, your task is to find the missing number. There are no duplicates."
   ]
  },
  {
   "cell_type": "code",
   "execution_count": 53,
   "metadata": {},
   "outputs": [
    {
     "name": "stdout",
     "output_type": "stream",
     "text": [
      "Missing no. from the list:  3\n"
     ]
    }
   ],
   "source": [
    "import functools\n",
    "from functools import reduce\n",
    "\n",
    "def missing_val(list1):\n",
    "    n = len(list1)\n",
    "    total = int((n + 1)*(n + 2)/2)\n",
    "    sum1 = sum(list1) \n",
    "    return total - sum1\n",
    "\n",
    "## Driver code\n",
    "x = [1, 4, 2, 5, 6]\n",
    "val = missing_val(x)\n",
    "print(\"Missing no. from the list: \", val)"
   ]
  },
  {
   "cell_type": "markdown",
   "metadata": {},
   "source": [
    "### Question 5:\n",
    "With a given list L, write a program to print this list L after removing all duplicate values with original order reserved."
   ]
  },
  {
   "cell_type": "code",
   "execution_count": 72,
   "metadata": {},
   "outputs": [
    {
     "name": "stdout",
     "output_type": "stream",
     "text": [
      "Given list:  [2, 4, 5, 8, 10, 17, 20, 2, 20, 45]\n",
      "New list without duplicates:  [2, 4, 5, 8, 10, 17, 20, 45]\n"
     ]
    }
   ],
   "source": [
    "val = [2, 4, 5, 8, 10, 17, 20, 2, 20, 45]\n",
    "val1 = list(dict.fromkeys(val))\n",
    "\n",
    "print(\"Given list: \", val)\n",
    "print(\"New list without duplicates: \", val1)"
   ]
  },
  {
   "cell_type": "code",
   "execution_count": null,
   "metadata": {},
   "outputs": [],
   "source": []
  }
 ],
 "metadata": {
  "kernelspec": {
   "display_name": "Python 3",
   "language": "python",
   "name": "python3"
  },
  "language_info": {
   "codemirror_mode": {
    "name": "ipython",
    "version": 3
   },
   "file_extension": ".py",
   "mimetype": "text/x-python",
   "name": "python",
   "nbconvert_exporter": "python",
   "pygments_lexer": "ipython3",
   "version": "3.7.6"
  }
 },
 "nbformat": 4,
 "nbformat_minor": 4
}
